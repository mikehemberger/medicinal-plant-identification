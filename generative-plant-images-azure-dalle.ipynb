{
 "cells": [
  {
   "cell_type": "code",
   "execution_count": null,
   "metadata": {},
   "outputs": [],
   "source": [
    "#Note: The openai-python library support for Azure OpenAI is in preview.\n",
    "import os\n",
    "import openai\n",
    "import requests\n",
    "from PIL import Image\n",
    "from io import BytesIO\n",
    "import pandas as pd\n",
    "\n",
    "df = pd.read_csv(\"test_nur_en_plant_names.csv\")\n",
    "prompts = df[\"Trivial Name_EN\"].tolist()\n",
    "\n",
    "openai.api_type = \"azure\"\n",
    "openai.api_base = \"https://azure-openai-dalle.openai.azure.com/\"\n",
    "openai.api_version = \"2023-06-01-preview\"\n",
    "openai.api_key = \"placeholder\"\n",
    "\n",
    "for prompt in prompts:\n",
    "    prompt = f'photo of the medicinal plant {prompt} in the garden'\n",
    "    size = \"512x512\" # '1024x1024'\n",
    "    response = openai.Image.create(\n",
    "        prompt=prompt,\n",
    "        size=size,\n",
    "        n=3\n",
    "    )\n",
    "\n",
    "    for nth, data in enumerate(response[\"data\"]):\n",
    "        image_url = data[\"url\"]\n",
    "        response_ = requests.get(image_url)\n",
    "        img = Image.open(BytesIO(response_.content))\n",
    "        img.save(f\"./generativeAI/{prompt}{int(nth) + 3}_{size}.jpg\", format=\"JPEG\")\n",
    "        # int(nth) + 3"
   ]
  },
  {
   "cell_type": "code",
   "execution_count": 10,
   "metadata": {},
   "outputs": [
    {
     "name": "stdout",
     "output_type": "stream",
     "text": [
      "Error while processing prompt 'photo of the medicinal plant Sexy footpath lichen in the garden': Your task failed as a result of our safety system.\n"
     ]
    }
   ],
   "source": [
    "for prompt in prompts:\n",
    "    prompt = f'photo of the medicinal plant {prompt} in the garden'\n",
    "    size = \"512x512\" # '1024x1024'\n",
    "    try:\n",
    "        response = openai.Image.create(\n",
    "            prompt=prompt,\n",
    "            size=size,\n",
    "            n=3\n",
    "        )\n",
    "\n",
    "        for nth, data in enumerate(response[\"data\"]):\n",
    "            try:\n",
    "                image_url = data[\"url\"]\n",
    "                response_ = requests.get(image_url)\n",
    "                img = Image.open(BytesIO(response_.content))\n",
    "                img.save(f\"./generativeAI/{prompt}{int(nth) + 7}_{size}.jpg\", format=\"JPEG\")\n",
    "            except KeyError:\n",
    "                print(f\"No 'url' in data for prompt '{prompt}' and image {int(nth) + 3}\")\n",
    "                continue\n",
    "    except Exception as e:\n",
    "        print(f\"Error while processing prompt '{prompt}': {str(e)}\")\n",
    "        continue\n"
   ]
  }
 ],
 "metadata": {
  "kernelspec": {
   "display_name": "Python 3",
   "language": "python",
   "name": "python3"
  },
  "language_info": {
   "codemirror_mode": {
    "name": "ipython",
    "version": 3
   },
   "file_extension": ".py",
   "mimetype": "text/x-python",
   "name": "python",
   "nbconvert_exporter": "python",
   "pygments_lexer": "ipython3",
   "version": "3.10.1"
  },
  "orig_nbformat": 4
 },
 "nbformat": 4,
 "nbformat_minor": 2
}
